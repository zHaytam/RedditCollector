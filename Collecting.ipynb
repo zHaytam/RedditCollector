{
 "cells": [
  {
   "cell_type": "markdown",
   "metadata": {},
   "source": [
    "# Collect reddit subreddits/comments"
   ]
  },
  {
   "cell_type": "markdown",
   "metadata": {},
   "source": [
    "## Setup database"
   ]
  },
  {
   "cell_type": "code",
   "execution_count": 16,
   "metadata": {},
   "outputs": [],
   "source": [
    "import pymongo"
   ]
  },
  {
   "cell_type": "code",
   "execution_count": 17,
   "metadata": {},
   "outputs": [
    {
     "data": {
      "text/plain": [
       "{'allocator': 'tcmalloc',\n",
       " 'bits': 64,\n",
       " 'buildEnvironment': {'cc': 'cl: Microsoft (R) C/C++ Optimizing Compiler Version 19.00.24223 for x64',\n",
       "  'ccflags': '/nologo /EHsc /W3 /wd4355 /wd4800 /wd4267 /wd4244 /wd4290 /wd4068 /wd4351 /wd4373 /we4013 /we4099 /we4930 /WX /errorReport:none /MD /O2 /Oy- /bigobj /utf-8 /Zc:rvalueCast /Zc:strictStrings /volatile:iso /Gw /Gy /Zc:inline',\n",
       "  'cxx': 'cl: Microsoft (R) C/C++ Optimizing Compiler Version 19.00.24223 for x64',\n",
       "  'cxxflags': '/TP',\n",
       "  'distarch': 'x86_64',\n",
       "  'distmod': '2008plus-ssl',\n",
       "  'linkflags': '/nologo /DEBUG /INCREMENTAL:NO /LARGEADDRESSAWARE /OPT:REF',\n",
       "  'target_arch': 'x86_64',\n",
       "  'target_os': 'windows'},\n",
       " 'debug': False,\n",
       " 'gitVersion': 'f288a3bdf201007f3693c58e140056adf8b04839',\n",
       " 'javascriptEngine': 'mozjs',\n",
       " 'maxBsonObjectSize': 16777216,\n",
       " 'modules': [],\n",
       " 'ok': 1.0,\n",
       " 'openssl': {'running': 'Windows SChannel'},\n",
       " 'storageEngines': ['devnull', 'ephemeralForTest', 'mmapv1', 'wiredTiger'],\n",
       " 'sysInfo': 'deprecated',\n",
       " 'targetMinOS': 'Windows 7/Windows Server 2008 R2',\n",
       " 'version': '4.0.4',\n",
       " 'versionArray': [4, 0, 4, 0]}"
      ]
     },
     "execution_count": 17,
     "metadata": {},
     "output_type": "execute_result"
    }
   ],
   "source": [
    "client = pymongo.MongoClient('localhost:27017')\n",
    "client.server_info()"
   ]
  },
  {
   "cell_type": "code",
   "execution_count": 18,
   "metadata": {},
   "outputs": [
    {
     "data": {
      "text/plain": [
       "'RedditDataMining'"
      ]
     },
     "execution_count": 18,
     "metadata": {},
     "output_type": "execute_result"
    }
   ],
   "source": [
    "db = client['RedditDataMining']\n",
    "db.name"
   ]
  },
  {
   "cell_type": "code",
   "execution_count": 32,
   "metadata": {},
   "outputs": [],
   "source": [
    "subreddits_collection = db['subreddits']"
   ]
  },
  {
   "cell_type": "markdown",
   "metadata": {},
   "source": [
    "## Create Reddit instance"
   ]
  },
  {
   "cell_type": "code",
   "execution_count": 2,
   "metadata": {},
   "outputs": [],
   "source": [
    "from praw import Reddit\n",
    "import pickle"
   ]
  },
  {
   "cell_type": "code",
   "execution_count": 3,
   "metadata": {},
   "outputs": [],
   "source": [
    "with open('creds', 'rb') as f:\n",
    "    creds = pickle.load(f)"
   ]
  },
  {
   "cell_type": "code",
   "execution_count": 4,
   "metadata": {},
   "outputs": [],
   "source": [
    "reddit = Reddit(client_id=creds['client_id'],\n",
    "                client_secret=creds['client_secret'],\n",
    "                user_agent='zHaytam.RedditDataMining')"
   ]
  },
  {
   "cell_type": "markdown",
   "metadata": {},
   "source": [
    "## Collect subreddits"
   ]
  },
  {
   "cell_type": "code",
   "execution_count": 33,
   "metadata": {},
   "outputs": [],
   "source": [
    "subreddits = list(reddit.subreddits.search(\"video game\", limit=1000))"
   ]
  },
  {
   "cell_type": "code",
   "execution_count": 39,
   "metadata": {},
   "outputs": [
    {
     "name": "stdout",
     "output_type": "stream",
     "text": [
      "Inserted 247 entries.\n"
     ]
    }
   ],
   "source": [
    "subreddits_entries = [{ 'name': subreddit.display_name_prefixed,\n",
    "                       'title': subreddit.title,\n",
    "                       'description': subreddit.public_description,\n",
    "                       'subscribers': subreddit.subscribers,\n",
    "                       'created_utc': subreddit.created_utc\n",
    "                      } for subreddit in subreddits]\n",
    "print('Inserted %d entries.' %  len(subreddits_collection.insert_many(subreddits_entries).inserted_ids))"
   ]
  },
  {
   "cell_type": "code",
   "execution_count": 41,
   "metadata": {},
   "outputs": [
    {
     "data": {
      "text/plain": [
       "{'_id': ObjectId('5bfa95857105206460a9ec21'),\n",
       " 'created_utc': 1356481408.0,\n",
       " 'description': 'The Reddit for Video Games',\n",
       " 'name': 'r/VideoGame',\n",
       " 'subscribers': 553,\n",
       " 'title': 'Video Game Reddit'}"
      ]
     },
     "execution_count": 41,
     "metadata": {},
     "output_type": "execute_result"
    }
   ],
   "source": [
    "subreddits_entries[0]"
   ]
  },
  {
   "cell_type": "markdown",
   "metadata": {},
   "source": [
    "## Collect users that post on those subreddits"
   ]
  },
  {
   "cell_type": "code",
   "execution_count": 40,
   "metadata": {},
   "outputs": [
    {
     "name": "stdout",
     "output_type": "stream",
     "text": [
      "VideoGame\n",
      "videogames\n",
      "Games\n",
      "gaming\n",
      "GameDeals\n",
      "StopGaming\n",
      "gamemusic\n",
      "tipofmytongue\n",
      "videos\n",
      "The_Donald\n",
      "funny\n",
      "WTF\n",
      "Showerthoughts\n",
      "conspiracy\n",
      "AskReddit\n",
      "news\n",
      "KotakuInAction\n",
      "todayilearned\n",
      "Gamingcirclejerk\n",
      "gamecollecting\n",
      "WritingPrompts\n",
      "truegaming\n",
      "GirlGamers\n",
      "retrogaming\n",
      "gamedev\n",
      "GamerGhazi\n",
      "CasualConversation\n",
      "gaymers\n",
      "explainlikeimfive\n",
      "AdviceAnimals\n",
      "TwoBestFriendsPlay\n",
      "Gaming4Gamers\n",
      "trees\n",
      "pcmasterrace\n",
      "SampleSize\n",
      "NoStupidQuestions\n",
      "pics\n",
      "teenagers\n",
      "IAmA\n",
      "SquaredCircle\n",
      "whowouldwin\n",
      "Random_Acts_Of_Amazon\n",
      "PS4\n",
      "nostalgia\n",
      "unpopularopinion\n",
      "DoesAnybodyElse\n",
      "SRSGaming\n",
      "ScenesFromAHat\n",
      "politics\n",
      "MLPLounge\n",
      "pcgaming\n",
      "circlejerk\n",
      "CrazyIdeas\n",
      "xboxone\n",
      "movies\n",
      "AskWomen\n",
      "reactiongifs\n",
      "nintendo\n",
      "relationships\n",
      "TrollXChromosomes\n",
      "EternityClub\n",
      "AskMen\n",
      "fffffffuuuuuuuuuuuu\n",
      "SubredditDrama\n",
      "aww\n",
      "gamegrumps\n",
      "4chan\n",
      "technology\n",
      "TumblrInAction\n",
      "reddit.com\n",
      "StarWars\n",
      "science\n",
      "Negareddit\n",
      "AskGames\n",
      "changemyview\n",
      "boardgames\n",
      "depression\n",
      "Drama\n",
      "MensRights\n",
      "shitpost\n",
      "findareddit\n",
      "pokemon\n",
      "zelda\n",
      "CenturyClub\n",
      "firstworldproblems\n",
      "ChapoTrapHouse\n",
      "MGTOW\n",
      "patientgamers\n",
      "gamedesign\n",
      "lewronggeneration\n",
      "gamernews\n",
      "ShitRedditSays\n",
      "circlebroke2\n",
      "smashbros\n",
      "anime\n",
      "mildlyinteresting\n",
      "Jokes\n",
      "giantbomb\n",
      "thewalkingdead\n",
      "NoFap\n",
      "australia\n",
      "metalgearsolid\n",
      "TheCinemassacre\n",
      "NintendoSwitch\n",
      "horror\n",
      "nba\n",
      "witcher\n",
      "atheism\n",
      "DnD\n",
      "masseffect\n",
      "ThriftStoreHauls\n",
      "bestof\n",
      "halo\n",
      "gamingsuggestions\n",
      "ADHD\n",
      "Music\n",
      "harrypotter\n",
      "leagueoflegends\n",
      "iamverysmart\n",
      "HailCorporate\n",
      "IndieGaming\n",
      "DestinyTheGame\n",
      "AskOuija\n",
      "psychology\n",
      "HITsWorthTurkingFor\n",
      "geek\n",
      "Cyberpunk\n",
      "ActionFigures\n",
      "TheLastAirbender\n",
      "Flipping\n",
      "comicbooks\n",
      "hockey\n",
      "baseball\n",
      "Fallout\n",
      "justneckbeardthings\n",
      "ludology\n",
      "casualiama\n",
      "Parenting\n",
      "startrek\n",
      "StarWarsBattlefront\n",
      "TwoXChromosomes\n",
      "Marvel\n",
      "Futurology\n",
      "rpg\n",
      "Documentaries\n",
      "Fantasy\n",
      "starcraft\n",
      "reddeadredemption\n",
      "DotA2\n",
      "gifs\n",
      "LifeProTips\n",
      "skyrim\n",
      "thatHappened\n",
      "RoastMe\n",
      "worldnews\n",
      "WeAreTheMusicMakers\n",
      "mylittlepony\n",
      "ifyoulikeblank\n",
      "crappyoffbrands\n",
      "DDLC\n",
      "drunk\n",
      "confession\n",
      "rant\n",
      "NoMansSkyTheGame\n",
      "lifeisstrange\n",
      "gatekeeping\n",
      "Kappa\n",
      "PrequelMemes\n",
      "comics\n",
      "lego\n",
      "CFB\n",
      "traaaaaaannnnnnnnnns\n",
      "Drugs\n",
      "cats\n",
      "nottheonion\n",
      "cringe\n",
      "IWantToLearn\n",
      "Overwatch\n",
      "JonTron\n",
      "oculus\n",
      "tipofmyjoystick\n",
      "DCcomics\n",
      "roosterteeth\n",
      "asmr\n",
      "tf2\n",
      "DAE\n",
      "adventuretime\n",
      "furry\n",
      "offmychest\n",
      "wiiu\n",
      "52weeksofcooking\n",
      "Minecraft\n",
      "gameofthrones\n",
      "AskHistorians\n",
      "marvelstudios\n",
      "gamingnews\n",
      "NASCAR\n",
      "legaladvice\n",
      "explainlikeIAmA\n",
      "creepygaming\n",
      "ComedyCemetery\n",
      "fireemblemcasual\n",
      "LateStageCapitalism\n",
      "TrueReddit\n",
      "exmormon\n",
      "worldbuilding\n",
      "shittykickstarters\n",
      "Undertale\n",
      "starterpacks\n",
      "SargonofAkkad\n",
      "Libertarian\n",
      "canada\n",
      "dbz\n",
      "consoledeals\n",
      "stevenuniverse\n",
      "assassinscreed\n",
      "SRSsucks\n",
      "programming\n",
      "books\n",
      "kickstarter\n",
      "tifu\n",
      "getdisciplined\n",
      "MMA\n",
      "OutOfTheLoop\n",
      "BestOfOutrageCulture\n",
      "GiIvaSunner\n",
      "self\n",
      "WouldYouRather\n",
      "VoiceActing\n",
      "yugioh\n",
      "Feminism\n",
      "Spiderman\n",
      "Lightbulb\n",
      "offbeat\n",
      "ForeverAlone\n",
      "rpg_gamers\n",
      "dataisbeautiful\n",
      "BackgroundArt\n",
      "FortNiteBR\n",
      "FinalFantasy\n",
      "wow\n",
      "gamers\n",
      "forhire\n",
      "ObscureMedia\n",
      "againstmensrights\n",
      "funkopop\n",
      "lgbt\n"
     ]
    }
   ],
   "source": [
    "for subreddit in subreddits:\n",
    "    print(subreddit.display_name)"
   ]
  },
  {
   "cell_type": "code",
   "execution_count": null,
   "metadata": {},
   "outputs": [],
   "source": []
  },
  {
   "cell_type": "code",
   "execution_count": null,
   "metadata": {},
   "outputs": [],
   "source": []
  },
  {
   "cell_type": "code",
   "execution_count": null,
   "metadata": {},
   "outputs": [],
   "source": []
  }
 ],
 "metadata": {
  "kernelspec": {
   "display_name": "Python 3",
   "language": "python",
   "name": "python3"
  },
  "language_info": {
   "codemirror_mode": {
    "name": "ipython",
    "version": 3
   },
   "file_extension": ".py",
   "mimetype": "text/x-python",
   "name": "python",
   "nbconvert_exporter": "python",
   "pygments_lexer": "ipython3",
   "version": "3.6.5"
  }
 },
 "nbformat": 4,
 "nbformat_minor": 2
}
